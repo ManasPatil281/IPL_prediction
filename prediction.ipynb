{
 "cells": [
  {
   "cell_type": "code",
   "execution_count": 2,
   "metadata": {},
   "outputs": [],
   "source": [
    "import pandas as pd\n",
    "import numpy as np\n"
   ]
  },
  {
   "cell_type": "code",
   "execution_count": 4,
   "metadata": {},
   "outputs": [],
   "source": [
    "matches=pd.read_csv('matches.csv')\n",
    "deliveries=pd.read_csv('deliveries.csv')\n"
   ]
  },
  {
   "cell_type": "code",
   "execution_count": 5,
   "metadata": {},
   "outputs": [],
   "source": [
    "total_score_df=deliveries.groupby(['match_id','inning']).sum()['total_runs'].reset_index()\n"
   ]
  },
  {
   "cell_type": "code",
   "execution_count": 7,
   "metadata": {},
   "outputs": [],
   "source": [
    "total_score_df=total_score_df[total_score_df['inning']==1]\n",
    "\n",
    "matches= matches.merge(total_score_df[['match_id','total_runs']],left_on='id',right_on='match_id')"
   ]
  },
  {
   "cell_type": "code",
   "execution_count": 8,
   "metadata": {},
   "outputs": [],
   "source": [
    "teams=['Sunrisers Hyderabad', 'Mumbai Indians',\n",
    "        'Royal Challengers Bangalore',\n",
    "       'Kolkata Knight Riders',  'Kings XI Punjab',\n",
    "       'Chennai Super Kings', 'Rajasthan Royals',\n",
    "        'Delhi Capitals']"
   ]
  },
  {
   "cell_type": "code",
   "execution_count": 9,
   "metadata": {},
   "outputs": [],
   "source": [
    "matches['team1']=matches['team1'].str.replace('Delhi Daredevils','Delhi Capitals')\n",
    "matches['team2']=matches['team2'].str.replace('Delhi Daredevils','Delhi Capitals')\n",
    "matches['team1']=matches['team1'].str.replace('Deccan Chargers','Sunrisers Hyderabad')\n",
    "matches['team2']=matches['team2'].str.replace('Delhi Daredevils','Sunrisers Hyderabad')\n",
    "\n",
    "matches=matches[matches['team1'].isin(teams)]\n",
    "matches=matches[matches['team2'].isin(teams)]\n",
    "\n",
    "matches=matches[matches['dl_applied']==0]\n",
    "\n",
    "matches=matches[['match_id','city','winner','total_runs']]"
   ]
  },
  {
   "cell_type": "code",
   "execution_count": 10,
   "metadata": {},
   "outputs": [],
   "source": [
    "delivery_df=matches.merge(deliveries,on='match_id')\n",
    "\n",
    "delivery_df=delivery_df[delivery_df['inning']==2]\n",
    "\n",
    "delivery_df['current_score'] = delivery_df.groupby('match_id')['total_runs_y'].cumsum()\n",
    "\n",
    "delivery_df['runs_left']=delivery_df['total_runs_x']-delivery_df['current_score']\n",
    "\n",
    "delivery_df['balls_left']=126-(6*delivery_df['over']+delivery_df['ball'])"
   ]
  },
  {
   "cell_type": "code",
   "execution_count": 11,
   "metadata": {},
   "outputs": [],
   "source": [
    "delivery_df['player_dismissed']=delivery_df['player_dismissed'].fillna('0')\n",
    "delivery_df['player_dismissed'] = delivery_df['player_dismissed'].apply(lambda x:x if x == \"0\" else \"1\")\n",
    "delivery_df['player_dismissed'] = delivery_df['player_dismissed'].astype('int')\n",
    "wickets = delivery_df.groupby('match_id')['player_dismissed'].cumsum()\n",
    "delivery_df['wickets'] = 10 - wickets\n",
    "\n",
    "delivery_df['crr'] = (delivery_df['current_score']*6)/(120 - delivery_df['balls_left'])\n",
    "delivery_df['rrr'] = (delivery_df['runs_left']*6)/( delivery_df['balls_left'])\n"
   ]
  },
  {
   "cell_type": "code",
   "execution_count": 12,
   "metadata": {},
   "outputs": [],
   "source": [
    "def result(row):\n",
    "    return 1 if row['batting_team']==row['winner'] else 0\n",
    "delivery_df['result'] = delivery_df.apply(result,axis=1)\n",
    "\n",
    "final_df = delivery_df[['batting_team','bowling_team','city','runs_left','balls_left','wickets','total_runs_x','crr','rrr','result']]\n",
    "\n",
    "final_df=final_df.sample(final_df.shape[0])\n",
    "\n",
    "final_df.dropna(inplace=True)\n",
    "final_df=final_df[final_df['balls_left']!=0]\n"
   ]
  },
  {
   "cell_type": "code",
   "execution_count": 14,
   "metadata": {},
   "outputs": [],
   "source": [
    "from sklearn.model_selection import train_test_split\n",
    "x=final_df.iloc[:,:-1]\n",
    "y=final_df.iloc[:,-1]\n",
    "x_train,x_test,y_train,y_test=train_test_split(x,y,test_size=0.2,random_state=1 )"
   ]
  },
  {
   "cell_type": "code",
   "execution_count": 15,
   "metadata": {},
   "outputs": [],
   "source": [
    "from sklearn.compose import ColumnTransformer\n",
    "from sklearn.preprocessing import OneHotEncoder\n",
    "\n",
    "trf = ColumnTransformer([\n",
    "    ('trf', OneHotEncoder(sparse_output=False, drop='first'), ['batting_team', 'bowling_team', 'city'])\n",
    "], remainder='passthrough')"
   ]
  },
  {
   "cell_type": "code",
   "execution_count": 16,
   "metadata": {},
   "outputs": [],
   "source": [
    "from sklearn.linear_model import LogisticRegression\n",
    "from sklearn.pipeline import Pipeline\n",
    "\n",
    "pipe = Pipeline(steps=[\n",
    "    ('step1',trf),\n",
    "    ('step2',LogisticRegression(solver='liblinear'))\n",
    "])\n",
    "pipe.fit(x_train,y_train)\n",
    "y_pred = pipe.predict(x_test)"
   ]
  },
  {
   "cell_type": "code",
   "execution_count": 18,
   "metadata": {},
   "outputs": [],
   "source": [
    "cities=delivery_df['city'].unique()\n",
    "\n",
    "import pickle\n",
    "pickle.dump(pipe,open('pipe_new.pkl','wb'))"
   ]
  }
 ],
 "metadata": {
  "kernelspec": {
   "display_name": "Python 3",
   "language": "python",
   "name": "python3"
  },
  "language_info": {
   "codemirror_mode": {
    "name": "ipython",
    "version": 3
   },
   "file_extension": ".py",
   "mimetype": "text/x-python",
   "name": "python",
   "nbconvert_exporter": "python",
   "pygments_lexer": "ipython3",
   "version": "3.12.6"
  }
 },
 "nbformat": 4,
 "nbformat_minor": 2
}
